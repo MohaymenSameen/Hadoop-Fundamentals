{
 "cells": [
  {
   "cell_type": "code",
   "execution_count": 6,
   "metadata": {
    "collapsed": true,
    "pycharm": {
     "name": "#%%\n"
    }
   },
   "outputs": [
    {
     "name": "stdout",
     "output_type": "stream",
     "text": [
      "+---------+--------+----------------+----------+-------------+----------+----------+------------+----------------+\n",
      "|longitude|latitude|housingMedianAge|totalRooms|totalBedRooms|population|households|medianIncome|medianHouseValue|\n",
      "+---------+--------+----------------+----------+-------------+----------+----------+------------+----------------+\n",
      "|  -122.23|   37.88|            41.0|     880.0|        129.0|     322.0|     126.0|      8.3252|        452600.0|\n",
      "|  -122.22|   37.86|            21.0|    7099.0|       1106.0|    2401.0|    1138.0|      8.3014|        358500.0|\n",
      "|  -122.24|   37.85|            52.0|    1467.0|        190.0|     496.0|     177.0|      7.2574|        352100.0|\n",
      "|  -122.25|   37.85|            52.0|    1274.0|        235.0|     558.0|     219.0|      5.6431|        341300.0|\n",
      "|  -122.25|   37.85|            52.0|    1627.0|        280.0|     565.0|     259.0|      3.8462|        342200.0|\n",
      "|  -122.25|   37.85|            52.0|     919.0|        213.0|     413.0|     193.0|      4.0368|        269700.0|\n",
      "|  -122.25|   37.84|            52.0|    2535.0|        489.0|    1094.0|     514.0|      3.6591|        299200.0|\n",
      "|  -122.25|   37.84|            52.0|    3104.0|        687.0|    1157.0|     647.0|        3.12|        241400.0|\n",
      "|  -122.26|   37.84|            42.0|    2555.0|        665.0|    1206.0|     595.0|      2.0804|        226700.0|\n",
      "|  -122.25|   37.84|            52.0|    3549.0|        707.0|    1551.0|     714.0|      3.6912|        261100.0|\n",
      "|  -122.26|   37.85|            52.0|    2202.0|        434.0|     910.0|     402.0|      3.2031|        281500.0|\n",
      "|  -122.26|   37.85|            52.0|    3503.0|        752.0|    1504.0|     734.0|      3.2705|        241800.0|\n",
      "|  -122.26|   37.85|            52.0|    2491.0|        474.0|    1098.0|     468.0|       3.075|        213500.0|\n",
      "|  -122.26|   37.84|            52.0|     696.0|        191.0|     345.0|     174.0|      2.6736|        191300.0|\n",
      "|  -122.26|   37.85|            52.0|    2643.0|        626.0|    1212.0|     620.0|      1.9167|        159200.0|\n",
      "|  -122.26|   37.85|            50.0|    1120.0|        283.0|     697.0|     264.0|       2.125|        140000.0|\n",
      "|  -122.27|   37.85|            52.0|    1966.0|        347.0|     793.0|     331.0|       2.775|        152500.0|\n",
      "|  -122.27|   37.85|            52.0|    1228.0|        293.0|     648.0|     303.0|      2.1202|        155500.0|\n",
      "|  -122.26|   37.84|            50.0|    2239.0|        455.0|     990.0|     419.0|      1.9911|        158700.0|\n",
      "|  -122.27|   37.84|            52.0|    1503.0|        298.0|     690.0|     275.0|      2.6033|        162900.0|\n",
      "+---------+--------+----------------+----------+-------------+----------+----------+------------+----------------+\n",
      "only showing top 20 rows\n",
      "\n"
     ]
    }
   ],
   "source": [
    "import findspark\n",
    "\n",
    "findspark.init(\"G:/hadoop/Github/Hadoop-Fundamentals/venv/Lib/site-packages/pyspark\")\n",
    "\n",
    "from pyspark.sql import SparkSession\n",
    "from pyspark.sql import Row\n",
    "from pyspark.sql.types import *\n",
    "spark = SparkSession.builder.master(\"local\").appName(\"Linear Regression Model\").config(\"spark.executor.memory\", \"1gb\").getOrCreate()\n",
    "\n",
    "sc = spark.sparkContext\n",
    "\n",
    "rdd = sc.textFile('C:/Users/lemon/Downloads/CaliforniaHousing/cal_housing.data')\n",
    "\n",
    "header = sc.textFile('C:Users/lemon/Downloads/CaliforniaHousing/cal_housing.domain')\n",
    "\n",
    "\n",
    "rdd = rdd.map(lambda line: line.split(\",\"))\n",
    "\n",
    "rdd.first()\n",
    "rdd.take(2)\n",
    "\n",
    "\n",
    "df = rdd.map(lambda line: Row(longitude=line[0],\n",
    "                              latitude=line[1],\n",
    "                              housingMedianAge=line[2],\n",
    "                              totalRooms=line[3],\n",
    "                              totalBedRooms=line[4],\n",
    "                              population=line[5],\n",
    "                              households=line[6],\n",
    "                              medianIncome=line[7],\n",
    "                              medianHouseValue=line[8])).toDF()\n",
    "\n",
    "df = df.withColumn(\"longitude\", df[\"longitude\"].cast(FloatType()))\\\n",
    "    .withColumn(\"latitude\", df[\"latitude\"].cast(FloatType()))\\\n",
    "    .withColumn(\"housingMedianAge\", df[\"housingMedianAge\"].cast(FloatType()))\\\n",
    "    .withColumn(\"totalRooms\", df[\"totalRooms\"].cast(FloatType()))\\\n",
    "    .withColumn(\"totalBedRooms\", df[\"totalBedRooms\"].cast(FloatType()))\\\n",
    "    .withColumn(\"population\", df[\"population\"].cast(FloatType()))\\\n",
    "    .withColumn(\"households\", df[\"households\"].cast(FloatType()))\\\n",
    "    .withColumn(\"medianIncome\", df[\"medianIncome\"].cast(FloatType()))\\\n",
    "    .withColumn(\"medianHouseValue\", df[\"medianHouseValue\"].cast(FloatType()))\n",
    "\n",
    "\n",
    "\n",
    "df.show()\n"
   ]
  }
 ],
 "metadata": {
  "kernelspec": {
   "display_name": "Python 3",
   "language": "python",
   "name": "python3"
  },
  "language_info": {
   "codemirror_mode": {
    "name": "ipython",
    "version": 2
   },
   "file_extension": ".py",
   "mimetype": "text/x-python",
   "name": "python",
   "nbconvert_exporter": "python",
   "pygments_lexer": "ipython2",
   "version": "2.7.6"
  }
 },
 "nbformat": 4,
 "nbformat_minor": 0
}