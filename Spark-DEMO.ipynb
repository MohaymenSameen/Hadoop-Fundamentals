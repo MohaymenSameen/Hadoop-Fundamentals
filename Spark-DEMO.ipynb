{
 "cells": [
  {
   "cell_type": "code",
   "execution_count": 29,
   "metadata": {
    "collapsed": true,
    "pycharm": {
     "name": "#%%\n"
    }
   },
   "outputs": [
    {
     "name": "stdout",
     "output_type": "stream",
     "text": [
      "+-----+--------------------+\n",
      "|label|            features|\n",
      "+-----+--------------------+\n",
      "|4.526|[129.0,322.0,126....|\n",
      "|3.585|[1106.0,2401.0,11...|\n",
      "|3.521|[190.0,496.0,177....|\n",
      "|3.413|[235.0,558.0,219....|\n",
      "|3.422|[280.0,565.0,259....|\n",
      "|2.697|[213.0,413.0,193....|\n",
      "|2.992|[489.0,1094.0,514...|\n",
      "|2.414|[687.0,1157.0,647...|\n",
      "|2.267|[665.0,1206.0,595...|\n",
      "|2.611|[707.0,1551.0,714...|\n",
      "|2.815|[434.0,910.0,402....|\n",
      "|2.418|[752.0,1504.0,734...|\n",
      "|2.135|[474.0,1098.0,468...|\n",
      "|1.913|[191.0,345.0,174....|\n",
      "|1.592|[626.0,1212.0,620...|\n",
      "|  1.4|[283.0,697.0,264....|\n",
      "|1.525|[347.0,793.0,331....|\n",
      "|1.555|[293.0,648.0,303....|\n",
      "|1.587|[455.0,990.0,419....|\n",
      "|1.629|[298.0,690.0,275....|\n",
      "+-----+--------------------+\n",
      "only showing top 20 rows\n",
      "\n"
     ]
    }
   ],
   "source": [
    "import findspark\n",
    "from pyspark.sql.functions import *\n",
    "\n",
    "findspark.init(\"G:/hadoop/Github/Hadoop-Fundamentals/venv/Lib/site-packages/pyspark\")\n",
    "\n",
    "from pyspark.sql import SparkSession\n",
    "from pyspark.sql import Row\n",
    "from pyspark.sql.types import *\n",
    "from pyspark.ml.linalg import DenseVector\n",
    "from pyspark.ml.feature import StandardScaler\n",
    "from pyspark.ml.regression import LinearRegression\n",
    "\n",
    "spark = SparkSession.builder.master(\"local\").appName(\"Linear Regression Model\").config(\"spark.executor.memory\", \"1gb\").getOrCreate()\n",
    "\n",
    "sc = spark.sparkContext\n",
    "\n",
    "rdd = sc.textFile('C:/Users/lemon/Downloads/CaliforniaHousing/cal_housing.data')\n",
    "\n",
    "header = sc.textFile('C:Users/lemon/Downloads/CaliforniaHousing/cal_housing.domain')\n",
    "\n",
    "\n",
    "rdd = rdd.map(lambda line: line.split(\",\"))\n",
    "\n",
    "rdd.first()\n",
    "rdd.take(2)\n",
    "\n",
    "\n",
    "df = rdd.map(lambda line: Row(longitude=line[0],\n",
    "                              latitude=line[1],\n",
    "                              housingMedianAge=line[2],\n",
    "                              totalRooms=line[3],\n",
    "                              totalBedRooms=line[4],\n",
    "                              population=line[5],\n",
    "                              households=line[6],\n",
    "                              medianIncome=line[7],\n",
    "                              medianHouseValue=line[8])).toDF()\n",
    "\n",
    "df = df.withColumn(\"longitude\", df[\"longitude\"].cast(FloatType()))\\\n",
    "    .withColumn(\"latitude\", df[\"latitude\"].cast(FloatType()))\\\n",
    "    .withColumn(\"housingMedianAge\", df[\"housingMedianAge\"].cast(FloatType()))\\\n",
    "    .withColumn(\"totalRooms\", df[\"totalRooms\"].cast(FloatType()))\\\n",
    "    .withColumn(\"totalBedRooms\", df[\"totalBedRooms\"].cast(FloatType()))\\\n",
    "    .withColumn(\"population\", df[\"population\"].cast(FloatType()))\\\n",
    "    .withColumn(\"households\", df[\"households\"].cast(FloatType()))\\\n",
    "    .withColumn(\"medianIncome\", df[\"medianIncome\"].cast(FloatType()))\\\n",
    "    .withColumn(\"medianHouseValue\", df[\"medianHouseValue\"].cast(FloatType()))\n",
    "\n",
    "df = df.withColumn(\"medianHouseValue\", col(\"medianHouseValue\")/100000)\n",
    "\n",
    "roomsPerHousehold = df.select(col(\"totalRooms\")/col(\"households\"))\n",
    "populationPerHousehold = df.select(col(\"population\")/col(\"households\"))\n",
    "bedroomsPerRoom = df.select(col(\"totalBedRooms\")/col(\"totalRooms\"))\n",
    "\n",
    "df = df.withColumn(\"roomsPerHousehold\",col(\"totalRooms\")/col(\"households\"))\\\n",
    "    .withColumn(\"populationPerHousehold\", col(\"population\")/col(\"households\"))\\\n",
    "    .withColumn(\"bedroomsPerRoom\",col(\"totalBedRooms\")/col(\"totalRooms\"))\n",
    "\n",
    "df = df.select(\"medianHouseValue\",\n",
    "               \"totalBedRooms\",\n",
    "               \"population\",\n",
    "               \"households\",\n",
    "               \"medianIncome\",\n",
    "               \"roomsPerHousehold\",\n",
    "               \"populationPerHousehold\",\n",
    "               \"bedroomsPerRoom\")\n",
    "\n",
    "input_data = df.rdd.map(lambda x:(x[0], DenseVector(x[1:])))\n",
    "\n",
    "df = spark.createDataFrame(input_data, [\"label\", \"features\"])\n",
    "\n",
    "standardScaler = StandardScaler(inputCol=\"features\", outputCol=\"features_scaled\")\n",
    "\n",
    "scaler = standardScaler.fit(df)\n",
    "\n",
    "scaled_df = scaler.transform(df)\n",
    "\n",
    "scaled_df.take(2)\n",
    "\n",
    "\n",
    "\n",
    "\n",
    "df.first()\n",
    "\n",
    "df.take(2)\n",
    "\n",
    "df.show()"
   ]
  },
  {
   "cell_type": "code",
   "execution_count": 30,
   "outputs": [
    {
     "name": "stdout",
     "output_type": "stream",
     "text": [
      "[0.0,0.0,0.0,0.27670678884943006,0.0,0.0,0.0]\n",
      "0.9947076240544817\n"
     ]
    }
   ],
   "source": [
    "train_data, test_data = scaled_df.randomSplit([.8,.2], seed=1234)\n",
    "lr = LinearRegression(labelCol=\"label\", maxIter=10, regParam=0.3, elasticNetParam=0.8)\n",
    "\n",
    "linearModel = lr.fit(train_data)\n",
    "predicted = linearModel.transform(test_data)\n",
    "\n",
    "predictions = predicted.select(\"prediction\").rdd.map(lambda x: x[0])\n",
    "labels = predicted.select(\"label\").rdd.map(lambda x:x[0])\n",
    "\n",
    "predictionAndLabel = predictions.zip(labels).collect()\n",
    "\n",
    "predictionAndLabel[:5]\n",
    "\n",
    "print(linearModel.coefficients)\n",
    "\n",
    "print(linearModel.intercept)"
   ],
   "metadata": {
    "collapsed": false,
    "pycharm": {
     "name": "#%%\n"
    }
   }
  },
  {
   "cell_type": "code",
   "execution_count": 31,
   "outputs": [
    {
     "name": "stdout",
     "output_type": "stream",
     "text": [
      "0.8794333071050418\n",
      "0.4192463677898063\n"
     ]
    }
   ],
   "source": [
    "print(linearModel.summary.rootMeanSquaredError)\n",
    "\n",
    "print(linearModel.summary.r2)\n",
    "\n",
    "spark.stop()"
   ],
   "metadata": {
    "collapsed": false,
    "pycharm": {
     "name": "#%%\n"
    }
   }
  }
 ],
 "metadata": {
  "kernelspec": {
   "display_name": "Python 3",
   "language": "python",
   "name": "python3"
  },
  "language_info": {
   "codemirror_mode": {
    "name": "ipython",
    "version": 2
   },
   "file_extension": ".py",
   "mimetype": "text/x-python",
   "name": "python",
   "nbconvert_exporter": "python",
   "pygments_lexer": "ipython2",
   "version": "2.7.6"
  }
 },
 "nbformat": 4,
 "nbformat_minor": 0
}