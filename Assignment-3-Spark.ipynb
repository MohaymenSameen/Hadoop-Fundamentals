{
 "cells": [
  {
   "cell_type": "code",
   "execution_count": 86,
   "metadata": {
    "collapsed": true
   },
   "outputs": [],
   "source": [
    "#Importing all the necessary libraries\n",
    "\n",
    "import findspark\n",
    "from pyspark.sql.functions import *\n",
    "from pyspark.sql import SparkSession\n",
    "from pyspark.sql import Row\n",
    "from pyspark.sql.types import *\n",
    "from pyspark.ml.linalg import DenseVector\n",
    "from pyspark.ml.feature import *\n",
    "from pyspark.ml.regression import LinearRegression"
   ]
  },
  {
   "cell_type": "code",
   "execution_count": 87,
   "outputs": [
    {
     "data": {
      "text/plain": "[Row(Survived='0', Pclass='3', Name='Mr. Owen Harris Braund', Sex='male', Age='22', Siblings_Spouses_Aboard='1', Parents_Children_Aboard='0', Fare='7.25'),\n Row(Survived='1', Pclass='1', Name='Mrs. John Bradley (Florence Briggs Thayer) Cumings', Sex='female', Age='38', Siblings_Spouses_Aboard='1', Parents_Children_Aboard='0', Fare='71.2833')]"
     },
     "execution_count": 87,
     "metadata": {},
     "output_type": "execute_result"
    }
   ],
   "source": [
    "#Initiating Spark and reading titanic csv\n",
    "\n",
    "spark = SparkSession.builder.master(\"local\").appName(\"Linear Regression Model\").config(\"spark.executor.memory\", \"1gb\").getOrCreate()\n",
    "\n",
    "data = spark.read.csv('C:/Users/lemon/Downloads/titanic.csv', header=True)\n",
    "\n",
    "\n",
    "data.first()\n",
    "data.take(2)\n",
    "\n"
   ],
   "metadata": {
    "collapsed": false,
    "pycharm": {
     "name": "#%%\n"
    }
   }
  },
  {
   "cell_type": "code",
   "execution_count": 88,
   "outputs": [
    {
     "name": "stdout",
     "output_type": "stream",
     "text": [
      "+---+-------+--------------------+-----------------------+------+------+-----------------------+--------+\n",
      "|Age|   Fare|                Name|Parents_Children_Aboard|Pclass|   Sex|Siblings_Spouses_Aboard|Survived|\n",
      "+---+-------+--------------------+-----------------------+------+------+-----------------------+--------+\n",
      "| 22|   7.25|Mr. Owen Harris B...|                      0|     3|  male|                      1|       0|\n",
      "| 38|71.2833|Mrs. John Bradley...|                      0|     1|female|                      1|       1|\n",
      "| 26|  7.925|Miss. Laina Heikk...|                      0|     3|female|                      0|       1|\n",
      "| 35|   53.1|Mrs. Jacques Heat...|                      0|     1|female|                      1|       1|\n",
      "| 35|   8.05|Mr. William Henry...|                      0|     3|  male|                      0|       0|\n",
      "| 27| 8.4583|     Mr. James Moran|                      0|     3|  male|                      0|       0|\n",
      "| 54|51.8625|Mr. Timothy J McC...|                      0|     1|  male|                      0|       0|\n",
      "|  2| 21.075|Master. Gosta Leo...|                      1|     3|  male|                      3|       0|\n",
      "| 27|11.1333|Mrs. Oscar W (Eli...|                      2|     3|female|                      0|       1|\n",
      "| 14|30.0708|Mrs. Nicholas (Ad...|                      0|     2|female|                      1|       1|\n",
      "|  4|   16.7|Miss. Marguerite ...|                      1|     3|female|                      1|       1|\n",
      "| 58|  26.55|Miss. Elizabeth B...|                      0|     1|female|                      0|       1|\n",
      "| 20|   8.05|Mr. William Henry...|                      0|     3|  male|                      0|       0|\n",
      "| 39| 31.275|Mr. Anders Johan ...|                      5|     3|  male|                      1|       0|\n",
      "| 14| 7.8542|Miss. Hulda Amand...|                      0|     3|female|                      0|       0|\n",
      "| 55|   16.0|Mrs. (Mary D King...|                      0|     2|female|                      0|       1|\n",
      "|  2| 29.125| Master. Eugene Rice|                      1|     3|  male|                      4|       0|\n",
      "| 23|   13.0|Mr. Charles Eugen...|                      0|     2|  male|                      0|       1|\n",
      "| 31|   18.0|Mrs. Julius (Emel...|                      0|     3|female|                      1|       0|\n",
      "| 22|  7.225|Mrs. Fatima Masse...|                      0|     3|female|                      0|       1|\n",
      "+---+-------+--------------------+-----------------------+------+------+-----------------------+--------+\n",
      "only showing top 20 rows\n",
      "\n"
     ]
    }
   ],
   "source": [
    "#Changing column types and names\n",
    "\n",
    "data = data.select(col(\"Age\").alias(\"Age\"), col(\"Fare\").alias(\"Fare\"), col(\"Name\").alias(\"Name\")\n",
    "                   , col(\"Parents_Children_Aboard\").alias(\"Parents_Children_Aboard\"), col(\"Pclass\").alias(\"Pclass\")\n",
    "                   , col(\"Sex\").alias(\"Sex\"), col(\"Siblings_Spouses_Aboard\").alias(\"Siblings_Spouses_Aboard\")\n",
    "                   , col(\"Survived\").alias(\"Survived\"))\n",
    "\n",
    "df = data.withColumn(\"Age\", data[\"Age\"].cast(IntegerType()))\\\n",
    "    .withColumn(\"Fare\", data[\"Fare\"].cast(FloatType()))\\\n",
    "    .withColumn(\"Name\", data[\"Name\"].cast(StringType()))\\\n",
    "    .withColumn(\"Parents_Children_Aboard\", data[\"Parents_Children_Aboard\"].cast(IntegerType()))\\\n",
    "    .withColumn(\"Pclass\", data[\"Pclass\"].cast(IntegerType()))\\\n",
    "    .withColumn(\"Sex\", data[\"Sex\"].cast(StringType()))\\\n",
    "    .withColumn(\"Siblings_Spouses_Aboard\", data[\"Siblings_Spouses_Aboard\"].cast(IntegerType()))\\\n",
    "    .withColumn(\"Survived\", data[\"Survived\"].cast(IntegerType()))\n",
    "\n",
    "df.first()\n",
    "\n",
    "df.take(2)\n",
    "\n",
    "df.show()\n"
   ],
   "metadata": {
    "collapsed": false,
    "pycharm": {
     "name": "#%%\n"
    }
   }
  },
  {
   "cell_type": "code",
   "execution_count": 89,
   "outputs": [
    {
     "name": "stdout",
     "output_type": "stream",
     "text": [
      "+--------+------+-----+\n",
      "|Survived|   Sex|count|\n",
      "+--------+------+-----+\n",
      "|       0|female|   81|\n",
      "|       1|  male|  109|\n",
      "|       1|female|  233|\n",
      "|       0|  male|  464|\n",
      "+--------+------+-----+\n",
      "\n",
      "+--------+------+-----+\n",
      "|Survived|Pclass|count|\n",
      "+--------+------+-----+\n",
      "|       1|     2|   87|\n",
      "|       1|     1|  136|\n",
      "|       1|     3|  119|\n",
      "|       0|     1|   80|\n",
      "|       0|     2|   97|\n",
      "|       0|     3|  368|\n",
      "+--------+------+-----+\n",
      "\n",
      "+--------+------+------+-----+\n",
      "|Survived|   Sex|Pclass|count|\n",
      "+--------+------+------+-----+\n",
      "|       0|female|     2|    6|\n",
      "|       1|  male|     2|   17|\n",
      "|       0|female|     3|   72|\n",
      "|       0|  male|     2|   91|\n",
      "|       0|female|     1|    3|\n",
      "|       1|female|     3|   72|\n",
      "|       1|  male|     3|   47|\n",
      "|       1|female|     2|   70|\n",
      "|       0|  male|     1|   77|\n",
      "|       1|female|     1|   91|\n",
      "|       1|  male|     1|   45|\n",
      "|       0|  male|     3|  296|\n",
      "+--------+------+------+-----+\n",
      "\n"
     ]
    }
   ],
   "source": [
    "# Counting how many survived based on sex and class and both\n",
    "\n",
    "groupBySex = df.groupBy(\"Survived\",\"Sex\").count().show()\n",
    "groupByClass = df.groupBy(\"Survived\",\"Pclass\").count().show()\n",
    "\n",
    "groupByBoth = df.groupBy(\"Survived\", \"Sex\", \"Pclass\").count().show()\n"
   ],
   "metadata": {
    "collapsed": false,
    "pycharm": {
     "name": "#%%\n"
    }
   }
  }
 ],
 "metadata": {
  "kernelspec": {
   "display_name": "Python 3",
   "language": "python",
   "name": "python3"
  },
  "language_info": {
   "codemirror_mode": {
    "name": "ipython",
    "version": 2
   },
   "file_extension": ".py",
   "mimetype": "text/x-python",
   "name": "python",
   "nbconvert_exporter": "python",
   "pygments_lexer": "ipython2",
   "version": "2.7.6"
  }
 },
 "nbformat": 4,
 "nbformat_minor": 0
}